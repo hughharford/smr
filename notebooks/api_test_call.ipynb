{
 "cells": [
  {
   "cell_type": "code",
   "execution_count": 2,
   "id": "5707fe8d",
   "metadata": {},
   "outputs": [],
   "source": [
    "import requests"
   ]
  },
  {
   "cell_type": "code",
   "execution_count": 10,
   "id": "481a9080",
   "metadata": {},
   "outputs": [
    {
     "name": "stdout",
     "output_type": "stream",
     "text": [
      "{'search_input': 'test', 'postcode': 'test_postcode', 'count_search': 5, 'max_roof_id_number': 7, 'max_roof_area': 24, 'max_roof_number_panels': 21, 'total_count_roofs': 65, 'total_count_panels': 4}\n"
     ]
    }
   ],
   "source": [
    "params = {\"search_input\": 'test',\n",
    "            \"postcode\": 'test_postcode',\n",
    "            \"count_search\": 5,\n",
    "            \"max_roof_id_number\": 7,\n",
    "            \"max_roof_area\": 24,\n",
    "            \"max_roof_number_panels\": 21,\n",
    "            \"total_count_roofs\": 65,\n",
    "            \"total_count_panels\": 4\n",
    "            }\n",
    "\n",
    "api_url = \"http://127.0.0.1:8000/save_search?\"\n",
    "# api_url = \"http://127.0.0.1:8000/\"\n",
    "\n",
    "\n",
    "response = requests.get(\n",
    "    api_url,\n",
    "    params=params\n",
    ").json()\n",
    "\n",
    "print(response)"
   ]
  },
  {
   "cell_type": "code",
   "execution_count": 11,
   "id": "caf6c297",
   "metadata": {},
   "outputs": [
    {
     "name": "stdout",
     "output_type": "stream",
     "text": [
      "<Response [200]>\n"
     ]
    }
   ],
   "source": [
    "response = requests.get(\n",
    "    api_url,\n",
    "    params=params\n",
    ")\n",
    "\n",
    "print(response)"
   ]
  },
  {
   "cell_type": "code",
   "execution_count": 13,
   "id": "f56ff042",
   "metadata": {},
   "outputs": [
    {
     "name": "stdout",
     "output_type": "stream",
     "text": [
      "{'location': {'search_id': 'test_id', 'city': 'Glasgow', 'lon': 4.2828, 'lat': 55.8642}, 'summary': {'num_roofs': 72, 'tot_roof_area': 4321}, 'roof_area': {'roof_1': 300, 'roof_2': 265, 'roof_3': 540}}\n"
     ]
    }
   ],
   "source": [
    "params = {\"search_id\": 'test_id'\n",
    "            }\n",
    "\n",
    "api_url = \"http://127.0.0.1:8000/view_search?\"\n",
    "\n",
    "\n",
    "response = requests.get(\n",
    "    api_url,\n",
    "    params=params\n",
    ").json()\n",
    "\n",
    "print(response)"
   ]
  },
  {
   "cell_type": "code",
   "execution_count": null,
   "id": "be15dc10",
   "metadata": {},
   "outputs": [],
   "source": []
  }
 ],
 "metadata": {
  "kernelspec": {
   "display_name": "Python 3 (ipykernel)",
   "language": "python",
   "name": "python3"
  },
  "language_info": {
   "codemirror_mode": {
    "name": "ipython",
    "version": 3
   },
   "file_extension": ".py",
   "mimetype": "text/x-python",
   "name": "python",
   "nbconvert_exporter": "python",
   "pygments_lexer": "ipython3",
   "version": "3.8.13"
  },
  "toc": {
   "base_numbering": 1,
   "nav_menu": {},
   "number_sections": true,
   "sideBar": true,
   "skip_h1_title": false,
   "title_cell": "Table of Contents",
   "title_sidebar": "Contents",
   "toc_cell": false,
   "toc_position": {},
   "toc_section_display": true,
   "toc_window_display": false
  }
 },
 "nbformat": 4,
 "nbformat_minor": 5
}
